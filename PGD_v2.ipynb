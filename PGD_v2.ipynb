{
  "nbformat": 4,
  "nbformat_minor": 0,
  "metadata": {
    "kernelspec": {
      "name": "python3",
      "display_name": "Python 3"
    },
    "language_info": {
      "codemirror_mode": {
        "name": "ipython",
        "version": 3
      },
      "file_extension": ".py",
      "mimetype": "text/x-python",
      "name": "python",
      "nbconvert_exporter": "python",
      "pygments_lexer": "ipython3",
      "version": "3.7.4"
    },
    "colab": {
      "name": "PGD full.ipynb",
      "provenance": [],
      "collapsed_sections": []
    },
    "accelerator": "GPU"
  },
  "cells": [
    {
      "cell_type": "code",
      "metadata": {
        "id": "br2IdBcN6lLO",
        "colab_type": "code",
        "colab": {}
      },
      "source": [
        "import torch\n",
        "import torchvision\n",
        "import torchvision.transforms as transforms\n",
        "import matplotlib.pyplot as plt\n",
        "import numpy as np\n",
        "import torch.nn as nn\n",
        "import torch.optim as optim\n",
        "import torch.nn.functional as F"
      ],
      "execution_count": 0,
      "outputs": []
    },
    {
      "cell_type": "markdown",
      "metadata": {
        "id": "GNE45EOl6lLV",
        "colab_type": "text"
      },
      "source": [
        "# Download dataset"
      ]
    },
    {
      "cell_type": "code",
      "metadata": {
        "id": "fUz7hxb-6lLW",
        "colab_type": "code",
        "outputId": "ca01e634-2417-4674-82b8-7be39f46c500",
        "colab": {
          "base_uri": "https://localhost:8080/",
          "height": 85
        }
      },
      "source": [
        "transform = transforms.Compose(\n",
        "    [transforms.ToTensor(),\n",
        "     transforms.Normalize((0.5, 0.5, 0.5), (0.5, 0.5, 0.5))])\n",
        "\n",
        "trainset = torchvision.datasets.CIFAR10(root='./data', train=True,\n",
        "                                        download=True, transform=transform)\n",
        "trainloader = torch.utils.data.DataLoader(trainset, batch_size=1,\n",
        "                                          shuffle=True)\n",
        "\n",
        "testset = torchvision.datasets.CIFAR10(root='./data', train=False,\n",
        "                                       download=True, transform=transform)\n",
        "testloader = torch.utils.data.DataLoader(testset, batch_size=1,\n",
        "                                         shuffle=False)\n",
        "\n",
        "classes = ('plane', 'car', 'bird', 'cat',\n",
        "           'deer', 'dog', 'frog', 'horse', 'ship', 'truck')"
      ],
      "execution_count": 3,
      "outputs": [
        {
          "output_type": "stream",
          "text": [
            "\r0it [00:00, ?it/s]"
          ],
          "name": "stderr"
        },
        {
          "output_type": "stream",
          "text": [
            "Downloading https://www.cs.toronto.edu/~kriz/cifar-10-python.tar.gz to ./data/cifar-10-python.tar.gz\n"
          ],
          "name": "stdout"
        },
        {
          "output_type": "stream",
          "text": [
            "170500096it [00:06, 26369341.41it/s]                               \n"
          ],
          "name": "stderr"
        },
        {
          "output_type": "stream",
          "text": [
            "Extracting ./data/cifar-10-python.tar.gz to ./data\n",
            "Files already downloaded and verified\n"
          ],
          "name": "stdout"
        }
      ]
    },
    {
      "cell_type": "code",
      "metadata": {
        "id": "5vI0NmFr6lLc",
        "colab_type": "code",
        "colab": {}
      },
      "source": [
        "def imshow(img):\n",
        "    img = img / 2 + 0.5     # unnormalize\n",
        "    npimg = img.numpy()\n",
        "    plt.imshow(np.transpose(npimg, (1, 2, 0)))\n",
        "    plt.show()"
      ],
      "execution_count": 0,
      "outputs": []
    },
    {
      "cell_type": "markdown",
      "metadata": {
        "id": "pr1sX7c46lLg",
        "colab_type": "text"
      },
      "source": [
        "# Train classical network"
      ]
    },
    {
      "cell_type": "code",
      "metadata": {
        "id": "bRxzT7G96lLh",
        "colab_type": "code",
        "colab": {}
      },
      "source": [
        "class Net(nn.Module):\n",
        "    def __init__(self):\n",
        "        super(Net, self).__init__()\n",
        "        self.conv1 = nn.Conv2d(3,   64,  3)\n",
        "        self.conv2 = nn.Conv2d(64,  128, 3)\n",
        "        self.conv3 = nn.Conv2d(128, 256, 3)\n",
        "        self.avgpool = nn.AvgPool2d(2, stride=1)\n",
        "        self.pool = nn.MaxPool2d(2, 2)\n",
        "        self.fc1 = nn.Linear(256, 128)\n",
        "        self.fc2 = nn.Linear(128, 10)\n",
        "\n",
        "    def forward(self, x):\n",
        "        x = self.pool(F.relu(self.conv1(x)))\n",
        "        x = self.pool(F.relu(self.conv2(x)))\n",
        "        x = self.pool(F.relu(self.conv3(x)))\n",
        "        x = self.avgpool(x)\n",
        "        x = x.view(-1, 256)\n",
        "        x = F.relu(self.fc1(x))\n",
        "        x = self.fc2(x)\n",
        "        return F.log_softmax(x, dim=1)"
      ],
      "execution_count": 0,
      "outputs": []
    },
    {
      "cell_type": "code",
      "metadata": {
        "id": "JhZIZlj86lLn",
        "colab_type": "code",
        "colab": {}
      },
      "source": [
        "net = Net()\n",
        "criterion = nn.CrossEntropyLoss()\n",
        "optimizer = optim.SGD(net.parameters(), lr=0.001, momentum=0.9)"
      ],
      "execution_count": 0,
      "outputs": []
    },
    {
      "cell_type": "code",
      "metadata": {
        "id": "cuFx_Avb6lLr",
        "colab_type": "code",
        "outputId": "112bf1d0-fd48-4f64-dfc4-2957283d25c3",
        "colab": {
          "base_uri": "https://localhost:8080/",
          "height": 884
        }
      },
      "source": [
        "for epoch in range(2):  # loop over the dataset multiple times\n",
        "\n",
        "    running_loss = 0.0\n",
        "    for i, data in enumerate(trainloader, 0):\n",
        "        # get the inputs; data is a list of [inputs, labels]\n",
        "        inputs, labels = data\n",
        "\n",
        "        # zero the parameter gradients\n",
        "        optimizer.zero_grad()\n",
        "\n",
        "        # forward + backward + optimize\n",
        "        outputs = net(inputs)\n",
        "        loss = criterion(outputs, labels)\n",
        "        loss.backward()\n",
        "        optimizer.step()\n",
        "\n",
        "        # print statistics\n",
        "        running_loss += loss.item()\n",
        "        if i % 2000 == 1999:    # print every 2000 mini-batches\n",
        "            print('[%d, %5d] loss: %.3f' %\n",
        "                  (epoch + 1, i + 1, running_loss / 2000))\n",
        "            running_loss = 0.0\n",
        "\n",
        "print('Finished Training')"
      ],
      "execution_count": 37,
      "outputs": [
        {
          "output_type": "stream",
          "text": [
            "[1,  2000] loss: 2.238\n",
            "[1,  4000] loss: 2.067\n",
            "[1,  6000] loss: 1.953\n",
            "[1,  8000] loss: 1.878\n",
            "[1, 10000] loss: 1.779\n",
            "[1, 12000] loss: 1.716\n",
            "[1, 14000] loss: 1.667\n",
            "[1, 16000] loss: 1.641\n",
            "[1, 18000] loss: 1.602\n",
            "[1, 20000] loss: 1.559\n",
            "[1, 22000] loss: 1.539\n",
            "[1, 24000] loss: 1.504\n",
            "[1, 26000] loss: 1.481\n",
            "[1, 28000] loss: 1.464\n",
            "[1, 30000] loss: 1.426\n",
            "[1, 32000] loss: 1.369\n",
            "[1, 34000] loss: 1.384\n",
            "[1, 36000] loss: 1.333\n",
            "[1, 38000] loss: 1.326\n",
            "[1, 40000] loss: 1.337\n",
            "[1, 42000] loss: 1.289\n",
            "[1, 44000] loss: 1.314\n",
            "[1, 46000] loss: 1.299\n",
            "[1, 48000] loss: 1.255\n",
            "[1, 50000] loss: 1.232\n",
            "[2,  2000] loss: 1.203\n",
            "[2,  4000] loss: 1.141\n",
            "[2,  6000] loss: 1.177\n",
            "[2,  8000] loss: 1.155\n",
            "[2, 10000] loss: 1.148\n",
            "[2, 12000] loss: 1.097\n",
            "[2, 14000] loss: 1.126\n",
            "[2, 16000] loss: 1.125\n",
            "[2, 18000] loss: 1.095\n",
            "[2, 20000] loss: 1.070\n",
            "[2, 22000] loss: 1.054\n",
            "[2, 24000] loss: 1.079\n",
            "[2, 26000] loss: 1.056\n",
            "[2, 28000] loss: 1.087\n",
            "[2, 30000] loss: 1.041\n",
            "[2, 32000] loss: 1.033\n",
            "[2, 34000] loss: 1.025\n",
            "[2, 36000] loss: 0.976\n",
            "[2, 38000] loss: 1.005\n",
            "[2, 40000] loss: 0.986\n",
            "[2, 42000] loss: 0.994\n",
            "[2, 44000] loss: 0.950\n",
            "[2, 46000] loss: 0.955\n",
            "[2, 48000] loss: 0.967\n",
            "[2, 50000] loss: 0.942\n",
            "Finished Training\n"
          ],
          "name": "stdout"
        }
      ]
    },
    {
      "cell_type": "code",
      "metadata": {
        "id": "QWxZifs56lLv",
        "colab_type": "code",
        "outputId": "3dce9c44-19f8-4f8b-ceb2-36b81b98adad",
        "colab": {
          "base_uri": "https://localhost:8080/",
          "height": 34
        }
      },
      "source": [
        "#Whole dataset\n",
        "correct = 0\n",
        "total = 0\n",
        "with torch.no_grad():\n",
        "    for data in testloader:\n",
        "        images, labels = data\n",
        "        outputs = net(images)\n",
        "        _, predicted = torch.max(outputs.data, 1)\n",
        "        total += labels.size(0)\n",
        "        correct += (predicted == labels).sum().item()\n",
        "\n",
        "print('Accuracy of the network on the 10000 test images: %d %%' % (\n",
        "    100 * correct / total))"
      ],
      "execution_count": 38,
      "outputs": [
        {
          "output_type": "stream",
          "text": [
            "Accuracy of the network on the 10000 test images: 66 %\n"
          ],
          "name": "stdout"
        }
      ]
    },
    {
      "cell_type": "code",
      "metadata": {
        "id": "KhZxSYBMpGwq",
        "colab_type": "code",
        "colab": {
          "base_uri": "https://localhost:8080/",
          "height": 164
        },
        "outputId": "6ec76ed1-81c4-4a7f-a83e-d2104f1b59f8"
      },
      "source": [
        "torch.save(net, 'net.pth')"
      ],
      "execution_count": 9,
      "outputs": [
        {
          "output_type": "error",
          "ename": "NameError",
          "evalue": "ignored",
          "traceback": [
            "\u001b[0;31m---------------------------------------------------------------------------\u001b[0m",
            "\u001b[0;31mNameError\u001b[0m                                 Traceback (most recent call last)",
            "\u001b[0;32m<ipython-input-9-6d4a2a121f4c>\u001b[0m in \u001b[0;36m<module>\u001b[0;34m()\u001b[0m\n\u001b[0;32m----> 1\u001b[0;31m \u001b[0mtorch\u001b[0m\u001b[0;34m.\u001b[0m\u001b[0msave\u001b[0m\u001b[0;34m(\u001b[0m\u001b[0mnet\u001b[0m\u001b[0;34m,\u001b[0m \u001b[0;34m'net.pth'\u001b[0m\u001b[0;34m)\u001b[0m\u001b[0;34m\u001b[0m\u001b[0;34m\u001b[0m\u001b[0m\n\u001b[0m",
            "\u001b[0;31mNameError\u001b[0m: name 'net' is not defined"
          ]
        }
      ]
    },
    {
      "cell_type": "code",
      "metadata": {
        "id": "Tk2OFR_Hp8Wp",
        "colab_type": "code",
        "colab": {}
      },
      "source": [
        "net = torch.load('net.pth')"
      ],
      "execution_count": 0,
      "outputs": []
    },
    {
      "cell_type": "markdown",
      "metadata": {
        "id": "LN6mHWA-6lL1",
        "colab_type": "text"
      },
      "source": [
        "# PGD implementation"
      ]
    },
    {
      "cell_type": "code",
      "metadata": {
        "id": "PUnD91ylsNQ4",
        "colab_type": "code",
        "colab": {}
      },
      "source": [
        "def pgd_attack(model, image, label, eps=0.001, step=0.001, iters=50) :\n",
        "    loss_fn = nn.CrossEntropyLoss()\n",
        "        \n",
        "    ori_image = image.data\n",
        "        \n",
        "    for i in range(iters) :    \n",
        "        image.requires_grad = True\n",
        "        predicted = model(image)\n",
        "\n",
        "        model.zero_grad()\n",
        "        loss = loss_fn(predicted, label)\n",
        "        loss.backward()\n",
        "\n",
        "        #Gradient calculation\n",
        "        adv_image = image + step*image.grad.sign()\n",
        "\n",
        "        # Project back into l_norm ball and correct range\n",
        "        eta = torch.clamp(adv_image - ori_image, min=-eps, max=eps)\n",
        "        image = torch.clamp(ori_image + eta, min=0, max=1).detach_()\n",
        "            \n",
        "    return image"
      ],
      "execution_count": 0,
      "outputs": []
    },
    {
      "cell_type": "markdown",
      "metadata": {
        "id": "GMFR7DQNyiwD",
        "colab_type": "text"
      },
      "source": [
        "Test one image"
      ]
    },
    {
      "cell_type": "code",
      "metadata": {
        "id": "D-_wEoCKrkeE",
        "colab_type": "code",
        "outputId": "46752115-681d-4762-de45-5452925c7f34",
        "colab": {
          "base_uri": "https://localhost:8080/",
          "height": 283
        }
      },
      "source": [
        "# get random training image\n",
        "dataiter = iter(trainloader)\n",
        "images, labels = dataiter.next()\n",
        "\n",
        "# Show orginal image\n",
        "imshow(torchvision.utils.make_grid(images))\n",
        "print(' '.join('%5s' % classes[labels]))"
      ],
      "execution_count": 50,
      "outputs": [
        {
          "output_type": "display_data",
          "data": {
            "image/png": "[encoded data removed]",
            "text/plain": [
              "<Figure size 432x288 with 1 Axes>"
            ]
          },
          "metadata": {
            "tags": []
          }
        },
        {
          "output_type": "stream",
          "text": [
            "  d e e r\n"
          ],
          "name": "stdout"
        }
      ]
    },
    {
      "cell_type": "code",
      "metadata": {
        "id": "ZXS_QqA235F5",
        "colab_type": "code",
        "outputId": "7636e61d-e6c6-4e97-fab8-7912844bd73d",
        "colab": {
          "base_uri": "https://localhost:8080/",
          "height": 283
        }
      },
      "source": [
        "# Show Attack image\n",
        "images_adv = pgd_attack(net, images, labels)\n",
        "imshow(torchvision.utils.make_grid(images_adv))\n",
        "outputs = net(images_adv) #Label calculation\n",
        "_, predicted = torch.max(outputs.data, 1) #killer\n",
        "print(' '.join('%5s' % classes[predicted]))"
      ],
      "execution_count": 72,
      "outputs": [
        {
          "output_type": "display_data",
          "data": {
            "image/png": "[encoded data removed]",
            "text/plain": [
              "<Figure size 432x288 with 1 Axes>"
            ]
          },
          "metadata": {
            "tags": []
          }
        },
        {
          "output_type": "stream",
          "text": [
            "  d e e r\n"
          ],
          "name": "stdout"
        }
      ]
    },
    {
      "cell_type": "markdown",
      "metadata": {
        "id": "sIMzoRke6lL6",
        "colab_type": "text"
      },
      "source": [
        "# Train adversial network"
      ]
    },
    {
      "cell_type": "code",
      "metadata": {
        "id": "oJxbq1bE6lMA",
        "colab_type": "code",
        "outputId": "2a0dc2ca-c7a0-4624-f548-f045d650aa2a",
        "colab": {
          "base_uri": "https://localhost:8080/",
          "height": 34
        }
      },
      "source": [
        "correct = 0\n",
        "total = 0\n",
        "\n",
        "for images, labels in testloader:\n",
        "    \n",
        "    images = pgd_attack(net, images, labels)\n",
        "    labels = labels\n",
        "    outputs = net(images)\n",
        "    \n",
        "    _, pre = torch.max(outputs.data, 1)\n",
        "\n",
        "    total += 1\n",
        "    correct += (pre == labels).sum()\n",
        "    \n",
        "    \n",
        "print('Accuracy of test text: %f %%' % (100 * float(correct) / total))"
      ],
      "execution_count": 17,
      "outputs": [
        {
          "output_type": "stream",
          "text": [
            "Accuracy of test text: 11.000000 %\n"
          ],
          "name": "stdout"
        }
      ]
    }
  ]
}