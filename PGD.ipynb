{
  "nbformat": 4,
  "nbformat_minor": 0,
  "metadata": {
    "kernelspec": {
      "name": "python3",
      "display_name": "Python 3"
    },
    "language_info": {
      "codemirror_mode": {
        "name": "ipython",
        "version": 3
      },
      "file_extension": ".py",
      "mimetype": "text/x-python",
      "name": "python",
      "nbconvert_exporter": "python",
      "pygments_lexer": "ipython3",
      "version": "3.7.4"
    },
    "colab": {
      "name": "PGD full.ipynb",
      "provenance": [],
      "collapsed_sections": []
    },
    "accelerator": "GPU"
  },
  "cells": [
    {
      "cell_type": "markdown",
      "metadata": {
        "id": "GNE45EOl6lLV",
        "colab_type": "text"
      },
      "source": [
        "# Importer et Trainer le reseau"
      ]
    },
    {
      "cell_type": "code",
      "metadata": {
        "id": "br2IdBcN6lLO",
        "colab_type": "code",
        "colab": {}
      },
      "source": [
        "import torch\n",
        "import torchvision\n",
        "import torchvision.transforms as transforms\n",
        "import matplotlib.pyplot as plt\n",
        "import numpy as np\n",
        "import torch.nn as nn\n",
        "import torch.optim as optim\n",
        "import torch.nn.functional as F\n",
        "from torch.utils.data.sampler import SubsetRandomSampler"
      ],
      "execution_count": 0,
      "outputs": []
    },
    {
      "cell_type": "code",
      "metadata": {
        "id": "fUz7hxb-6lLW",
        "colab_type": "code",
        "outputId": "973c28d9-c831-48e8-f2e4-76e63c058832",
        "colab": {
          "base_uri": "https://localhost:8080/",
          "height": 51
        }
      },
      "source": [
        "transform = transforms.Compose(\n",
        "    [transforms.ToTensor(),\n",
        "     transforms.Normalize((0.5, 0.5, 0.5), (0.5, 0.5, 0.5))])\n",
        "\n",
        "trainset = torchvision.datasets.CIFAR10(root='./data', train=True,\n",
        "                                        download=True, transform=transform)\n",
        "trainloader = torch.utils.data.DataLoader(trainset, batch_size=1,\n",
        "                                          shuffle=True)\n",
        "\n",
        "indices = np.random.randint(0, 1, 1000)   \n",
        "sampler = torch.utils.data.sampler.SubsetRandomSampler(indices)\n",
        "\n",
        "testset = torchvision.datasets.CIFAR10(root='./data', train=False, \n",
        "                                       download=True, transform=transform)\n",
        "testloader = torch.utils.data.DataLoader(testset, batch_size=1,\n",
        "                                         shuffle=False)\n",
        "\n",
        "classes = ('plane', 'car', 'bird', 'cat',\n",
        "           'deer', 'dog', 'frog', 'horse', 'ship', 'truck')"
      ],
      "execution_count": 14,
      "outputs": [
        {
          "output_type": "stream",
          "text": [
            "Files already downloaded and verified\n",
            "Files already downloaded and verified\n"
          ],
          "name": "stdout"
        }
      ]
    },
    {
      "cell_type": "code",
      "metadata": {
        "id": "nnTbbP9PhY7D",
        "colab_type": "code",
        "outputId": "cda37298-b9cc-4764-fbf4-c66c25218cba",
        "colab": {
          "base_uri": "https://localhost:8080/",
          "height": 34
        }
      },
      "source": [
        "from torchvision import datasets, transforms\n",
        "from torch.utils.data import Dataset, DataLoader\n",
        "\n",
        "class MyDataset(Dataset):\n",
        "    def __init__(self):\n",
        "        self.cifar10 = datasets.CIFAR10(root='./data',\n",
        "                                        download=True,\n",
        "                                        train=False,\n",
        "                                        transform=transforms.ToTensor())\n",
        "        \n",
        "    def __getitem__(self, index):\n",
        "        data, target = self.cifar10[index]\n",
        "        \n",
        "        # Your transformations here (or set it in CIFAR10)\n",
        "        \n",
        "        return data, target, index\n",
        "\n",
        "    def __len__(self):\n",
        "        return len(self.cifar10)\n",
        "\n",
        "dataset = MyDataset()\n",
        "loader = DataLoader(dataset,\n",
        "                    batch_size=1,\n",
        "                    shuffle=True,\n",
        "                    num_workers=1)"
      ],
      "execution_count": 0,
      "outputs": [
        {
          "output_type": "stream",
          "text": [
            "Files already downloaded and verified\n"
          ],
          "name": "stdout"
        }
      ]
    },
    {
      "cell_type": "code",
      "metadata": {
        "id": "5vI0NmFr6lLc",
        "colab_type": "code",
        "colab": {}
      },
      "source": [
        "def imshow(img):\n",
        "    img = img / 2 + 0.5     # unnormalize\n",
        "    npimg = img.numpy()\n",
        "    plt.imshow(np.transpose(npimg, (1, 2, 0)))\n",
        "    plt.show()"
      ],
      "execution_count": 0,
      "outputs": []
    },
    {
      "cell_type": "markdown",
      "metadata": {
        "id": "pr1sX7c46lLg",
        "colab_type": "text"
      },
      "source": [
        "**Trainer le classique reseau**"
      ]
    },
    {
      "cell_type": "code",
      "metadata": {
        "id": "bRxzT7G96lLh",
        "colab_type": "code",
        "colab": {}
      },
      "source": [
        "class Net(nn.Module):\n",
        "    def __init__(self):\n",
        "        super(Net, self).__init__()\n",
        "        self.conv1 = nn.Conv2d(3,   64,  3)\n",
        "        self.conv2 = nn.Conv2d(64,  128, 3)\n",
        "        self.conv3 = nn.Conv2d(128, 256, 3)\n",
        "        self.avgpool = nn.AvgPool2d(2, stride=1)\n",
        "        self.pool = nn.MaxPool2d(2, 2)\n",
        "        self.fc1 = nn.Linear(256, 128)\n",
        "        self.fc2 = nn.Linear(128, 10)\n",
        "\n",
        "    def forward(self, x):\n",
        "        x = self.pool(F.relu(self.conv1(x)))\n",
        "        x = self.pool(F.relu(self.conv2(x)))\n",
        "        x = self.pool(F.relu(self.conv3(x)))\n",
        "        x = self.avgpool(x)\n",
        "        x = x.view(-1, 256)\n",
        "        x = F.relu(self.fc1(x))\n",
        "        x = self.fc2(x)\n",
        "        return F.log_softmax(x, dim=1)"
      ],
      "execution_count": 0,
      "outputs": []
    },
    {
      "cell_type": "code",
      "metadata": {
        "id": "JhZIZlj86lLn",
        "colab_type": "code",
        "colab": {}
      },
      "source": [
        "net = Net()\n",
        "criterion = nn.CrossEntropyLoss()\n",
        "optimizer = optim.SGD(net.parameters(), lr=0.001, momentum=0.9)"
      ],
      "execution_count": 0,
      "outputs": []
    },
    {
      "cell_type": "code",
      "metadata": {
        "id": "cuFx_Avb6lLr",
        "colab_type": "code",
        "colab": {
          "base_uri": "https://localhost:8080/",
          "height": 884
        },
        "outputId": "e07d898a-3f9a-4421-fb1d-b823497b38d5"
      },
      "source": [
        "for epoch in range(2):  # loop over the dataset multiple times\n",
        "\n",
        "    running_loss = 0.0\n",
        "    for i, data in enumerate(trainloader, 0):\n",
        "        # get the inputs; data is a list of [inputs, labels]\n",
        "        inputs, labels = data\n",
        "\n",
        "        # zero the parameter gradients\n",
        "        optimizer.zero_grad()\n",
        "\n",
        "        # forward + backward + optimize\n",
        "        outputs = net(inputs)\n",
        "        loss = criterion(outputs, labels)\n",
        "        loss.backward()\n",
        "        optimizer.step()\n",
        "\n",
        "        # print statistics\n",
        "        running_loss += loss.item()\n",
        "        if i % 2000 == 1999:    # print every 2000 mini-batches\n",
        "            print('[%d, %5d] loss: %.3f' %\n",
        "                  (epoch + 1, i + 1, running_loss / 2000))\n",
        "            running_loss = 0.0\n",
        "\n",
        "print('Finished Training')"
      ],
      "execution_count": 17,
      "outputs": [
        {
          "output_type": "stream",
          "text": [
            "[1,  2000] loss: 2.234\n",
            "[1,  4000] loss: 2.062\n",
            "[1,  6000] loss: 1.986\n",
            "[1,  8000] loss: 1.844\n",
            "[1, 10000] loss: 1.787\n",
            "[1, 12000] loss: 1.725\n",
            "[1, 14000] loss: 1.684\n",
            "[1, 16000] loss: 1.638\n",
            "[1, 18000] loss: 1.590\n",
            "[1, 20000] loss: 1.536\n",
            "[1, 22000] loss: 1.500\n",
            "[1, 24000] loss: 1.486\n",
            "[1, 26000] loss: 1.467\n",
            "[1, 28000] loss: 1.441\n",
            "[1, 30000] loss: 1.421\n",
            "[1, 32000] loss: 1.365\n",
            "[1, 34000] loss: 1.368\n",
            "[1, 36000] loss: 1.322\n",
            "[1, 38000] loss: 1.332\n",
            "[1, 40000] loss: 1.335\n",
            "[1, 42000] loss: 1.291\n",
            "[1, 44000] loss: 1.263\n",
            "[1, 46000] loss: 1.210\n",
            "[1, 48000] loss: 1.261\n",
            "[1, 50000] loss: 1.203\n",
            "[2,  2000] loss: 1.194\n",
            "[2,  4000] loss: 1.159\n",
            "[2,  6000] loss: 1.159\n",
            "[2,  8000] loss: 1.105\n",
            "[2, 10000] loss: 1.127\n",
            "[2, 12000] loss: 1.106\n",
            "[2, 14000] loss: 1.106\n",
            "[2, 16000] loss: 1.114\n",
            "[2, 18000] loss: 1.095\n",
            "[2, 20000] loss: 1.077\n",
            "[2, 22000] loss: 1.108\n",
            "[2, 24000] loss: 1.016\n",
            "[2, 26000] loss: 1.007\n",
            "[2, 28000] loss: 0.993\n",
            "[2, 30000] loss: 1.000\n",
            "[2, 32000] loss: 1.031\n",
            "[2, 34000] loss: 1.035\n",
            "[2, 36000] loss: 1.019\n",
            "[2, 38000] loss: 0.973\n",
            "[2, 40000] loss: 1.044\n",
            "[2, 42000] loss: 0.962\n",
            "[2, 44000] loss: 1.041\n",
            "[2, 46000] loss: 0.954\n",
            "[2, 48000] loss: 0.982\n",
            "[2, 50000] loss: 0.975\n",
            "Finished Training\n"
          ],
          "name": "stdout"
        }
      ]
    },
    {
      "cell_type": "code",
      "metadata": {
        "id": "QWxZifs56lLv",
        "colab_type": "code",
        "outputId": "d1b7a778-1dda-4c35-bddc-16a989eff6cd",
        "colab": {
          "base_uri": "https://localhost:8080/",
          "height": 34
        }
      },
      "source": [
        "#Whole dataset\n",
        "correct = 0\n",
        "total = 0\n",
        "with torch.no_grad():\n",
        "    for data in testloader:\n",
        "        images, labels = data\n",
        "        outputs = net(images)\n",
        "        _, predicted = torch.max(outputs.data, 1)\n",
        "        total += labels.size(0)\n",
        "        correct += (predicted == labels).sum().item()\n",
        "\n",
        "print('Accuracy of the network on the 10000 test images: %d %%' % (\n",
        "    100 * correct / total))"
      ],
      "execution_count": 20,
      "outputs": [
        {
          "output_type": "stream",
          "text": [
            "Accuracy of the network on the 10000 test images: 66 %\n"
          ],
          "name": "stdout"
        }
      ]
    },
    {
      "cell_type": "code",
      "metadata": {
        "id": "KhZxSYBMpGwq",
        "colab_type": "code",
        "colab": {
          "base_uri": "https://localhost:8080/",
          "height": 207
        },
        "outputId": "d3dce659-8dcd-4f66-eea7-bfec2d6cb674"
      },
      "source": [
        "torch.save(net, 'net.pth')"
      ],
      "execution_count": 18,
      "outputs": [
        {
          "output_type": "stream",
          "text": [
            "/usr/local/lib/python3.6/dist-packages/torch/serialization.py:292: UserWarning: Couldn't retrieve source code for container of type Net. It won't be checked for correctness upon loading.\n",
            "  \"type \" + obj.__name__ + \". It won't be checked \"\n",
            "/usr/local/lib/python3.6/dist-packages/torch/serialization.py:292: UserWarning: Couldn't retrieve source code for container of type Conv2d. It won't be checked for correctness upon loading.\n",
            "  \"type \" + obj.__name__ + \". It won't be checked \"\n",
            "/usr/local/lib/python3.6/dist-packages/torch/serialization.py:292: UserWarning: Couldn't retrieve source code for container of type AvgPool2d. It won't be checked for correctness upon loading.\n",
            "  \"type \" + obj.__name__ + \". It won't be checked \"\n",
            "/usr/local/lib/python3.6/dist-packages/torch/serialization.py:292: UserWarning: Couldn't retrieve source code for container of type MaxPool2d. It won't be checked for correctness upon loading.\n",
            "  \"type \" + obj.__name__ + \". It won't be checked \"\n",
            "/usr/local/lib/python3.6/dist-packages/torch/serialization.py:292: UserWarning: Couldn't retrieve source code for container of type Linear. It won't be checked for correctness upon loading.\n",
            "  \"type \" + obj.__name__ + \". It won't be checked \"\n"
          ],
          "name": "stderr"
        }
      ]
    },
    {
      "cell_type": "code",
      "metadata": {
        "id": "Tk2OFR_Hp8Wp",
        "colab_type": "code",
        "colab": {}
      },
      "source": [
        "net = torch.load('net.pth')"
      ],
      "execution_count": 0,
      "outputs": []
    },
    {
      "cell_type": "markdown",
      "metadata": {
        "id": "LN6mHWA-6lL1",
        "colab_type": "text"
      },
      "source": [
        "# Descente de Gradient Projetée (PGD)"
      ]
    },
    {
      "cell_type": "markdown",
      "metadata": {
        "id": "h6NKDXhFRtjQ",
        "colab_type": "text"
      },
      "source": [
        "FGSM est un processus en une étape pour générer des adversaires. Il donne assez bien et rapidement des adversaires, mais ce n'est certainement pas la meilleure méthode disponible pour le faire. Une variante plus forte de cette attaque serait la Descente de Gradient Projetée (PGD).\n",
        "\n",
        "Nous faisons une projection sur la fonction de perte négative :\n",
        "\n",
        "$$x^{t+1} = \\Pi_{x+S}(x^t+\\alpha*sign(\\bigtriangledown _xL(\\theta,x,y)))$$"
      ]
    },
    {
      "cell_type": "code",
      "metadata": {
        "id": "PUnD91ylsNQ4",
        "colab_type": "code",
        "colab": {}
      },
      "source": [
        "def pgd_attack(model, image, label, eps, step, iters=10) :\n",
        "    loss_fn = nn.CrossEntropyLoss()\n",
        "        \n",
        "    ori_image = image.data\n",
        "        \n",
        "    for i in range(iters) :    \n",
        "        image.requires_grad = True\n",
        "        predicted = model(image)\n",
        "\n",
        "        model.zero_grad()\n",
        "        loss = loss_fn(predicted, label)\n",
        "        loss.backward()\n",
        "\n",
        "        #Gradient calculation\n",
        "        adv_image = image + step*image.grad.sign()\n",
        "\n",
        "        # Project back into l_norm ball and correct range\n",
        "        eta = torch.clamp(adv_image - ori_image, min=-eps, max=eps)\n",
        "        image = torch.clamp(ori_image + eta, min=0, max=1).detach_()\n",
        "            \n",
        "    return image"
      ],
      "execution_count": 0,
      "outputs": []
    },
    {
      "cell_type": "markdown",
      "metadata": {
        "id": "GMFR7DQNyiwD",
        "colab_type": "text"
      },
      "source": [
        "Test sur une image"
      ]
    },
    {
      "cell_type": "code",
      "metadata": {
        "id": "D-_wEoCKrkeE",
        "colab_type": "code",
        "outputId": "61a4d800-46cd-466d-f339-1a29b8b1697f",
        "colab": {
          "base_uri": "https://localhost:8080/",
          "height": 566
        }
      },
      "source": [
        "# get random training image\n",
        "dataiter = iter(trainloader)\n",
        "images, labels = dataiter.next()\n",
        "\n",
        "# Show orginal image\n",
        "imshow(torchvision.utils.make_grid(images))\n",
        "print(' '.join('%5s' % classes[labels]))\n",
        "outputs = net(images)\n",
        "_, predicted = torch.max(outputs.data, 1) #killer\n",
        "print(' '.join('%5s' % classes[predicted]))\n",
        "\n",
        "# Show Attack image\n",
        "images_adv = pgd_attack(net, images, labels, 0.3, 0.01)\n",
        "imshow(torchvision.utils.make_grid(images_adv))\n",
        "outputs = net(images_adv) #Label calculation\n",
        "_, predicted = torch.max(outputs.data, 1) #killer\n",
        "print(' '.join('%5s' % classes[predicted]))"
      ],
      "execution_count": 52,
      "outputs": [
        {
          "output_type": "display_data",
          "data": {
            "image/png": "[encoded data removed]",
            "text/plain": [
              "<Figure size 432x288 with 1 Axes>"
            ]
          },
          "metadata": {
            "tags": []
          }
        },
        {
          "output_type": "stream",
          "text": [
            "    c a r\n",
            "    c a r\n"
          ],
          "name": "stdout"
        },
        {
          "output_type": "display_data",
          "data": {
            "image/png": "[encoded data removed]",
            "text/plain": [
              "<Figure size 432x288 with 1 Axes>"
            ]
          },
          "metadata": {
            "tags": []
          }
        },
        {
          "output_type": "stream",
          "text": [
            "  d e e r\n"
          ],
          "name": "stdout"
        }
      ]
    },
    {
      "cell_type": "markdown",
      "metadata": {
        "id": "sIMzoRke6lL6",
        "colab_type": "text"
      },
      "source": [
        "**Évaluer les exemples contradictoires**"
      ]
    },
    {
      "cell_type": "markdown",
      "metadata": {
        "id": "D8oYOSeTSZ4p",
        "colab_type": "text"
      },
      "source": [
        "Dans un premier temps, nous évaluons la précision obtenue en fonction d'Epsilon et du pas de gradient.\n",
        "Nous commençons par l'espion d'abord."
      ]
    },
    {
      "cell_type": "code",
      "metadata": {
        "id": "hwmE1WqlMFeX",
        "colab_type": "code",
        "colab": {
          "base_uri": "https://localhost:8080/",
          "height": 136
        },
        "outputId": "9b8e9291-e2b0-4646-ba11-674b932daa4b"
      },
      "source": [
        "epsl = np.array([0, 0.001, 0.01, 0.03, 0.1, 0.3, 1])\n",
        "epsl\n",
        "#Whole dataset\n",
        "resAccTr = []\n",
        "for e_i in epsl:\n",
        "  correct = 0\n",
        "  total = 0\n",
        "  for data in testloader:\n",
        "          images, labels = data\n",
        "          images = pgd_attack(net, images, labels, e_i ,step = 0.01)\n",
        "          outputs = net(images)\n",
        "          _, predicted = torch.max(outputs.data, 1)\n",
        "          total += labels.size(0)\n",
        "          correct += (predicted == labels).sum().item()\n",
        "  taux = correct / total\n",
        "  resAccTr.append(taux)\n",
        "  print('Accuracy: %d %%' % (\n",
        "      100 * taux))"
      ],
      "execution_count": 44,
      "outputs": [
        {
          "output_type": "stream",
          "text": [
            "Accuracy: 31 %\n",
            "Accuracy: 30 %\n",
            "Accuracy: 22 %\n",
            "Accuracy: 11 %\n",
            "Accuracy: 1 %\n",
            "Accuracy: 1 %\n",
            "Accuracy: 0 %\n"
          ],
          "name": "stdout"
        }
      ]
    },
    {
      "cell_type": "code",
      "metadata": {
        "id": "SEJoOZQl1ZAI",
        "colab_type": "code",
        "colab": {
          "base_uri": "https://localhost:8080/",
          "height": 312
        },
        "outputId": "be34a1a9-ffde-44cb-ded1-539e6fc3f691"
      },
      "source": [
        "plt.plot(epsl, resAccTr)\n",
        "plt.xlabel('Eps')\n",
        "plt.ylabel('Accuracy')\n",
        "plt.title('Accuracy in function of eps (test dataset)')"
      ],
      "execution_count": 54,
      "outputs": [
        {
          "output_type": "execute_result",
          "data": {
            "text/plain": [
              "Text(0.5, 1.0, 'Accuracy in function of eps (test dataset)')"
            ]
          },
          "metadata": {
            "tags": []
          },
          "execution_count": 54
        },
        {
          "output_type": "display_data",
          "data": {
            "image/png": "[encoded data removed]",
            "text/plain": [
              "<Figure size 432x288 with 1 Axes>"
            ]
          },
          "metadata": {
            "tags": []
          }
        }
      ]
    },
    {
      "cell_type": "markdown",
      "metadata": {
        "id": "IYF13NzVSufC",
        "colab_type": "text"
      },
      "source": [
        "Nous constatons que plus l4eps est grand, plus la précision de notre modèle diminue, donc plus d'exemples adverses sont générés. Nous pouvons prendre eps = 0,3 (la precision obtenue est 1%).\n",
        "\n",
        "Nous étudions ensuite la différence de précision en fonction du pas de gradient."
      ]
    },
    {
      "cell_type": "code",
      "metadata": {
        "id": "9ThG2YQn2JZ6",
        "colab_type": "code",
        "colab": {
          "base_uri": "https://localhost:8080/",
          "height": 136
        },
        "outputId": "6af36071-7293-4341-a21a-24556b28a29f"
      },
      "source": [
        "stepl = np.array([0, 0.001, 0.01, 0.03, 0.1, 0.3, 1])\n",
        "#Whole dataset\n",
        "stepAcc = []\n",
        "for step_i in stepl:\n",
        "  correct = 0\n",
        "  total = 0\n",
        "  for data in testloader:\n",
        "          images, labels = data\n",
        "          images = pgd_attack(net, images, labels, eps = 0.3 , step_i)\n",
        "          outputs = net(images)\n",
        "          _, predicted = torch.max(outputs.data, 1)\n",
        "          total += labels.size(0)\n",
        "          correct += (predicted == labels).sum().item()\n",
        "  taux = correct / total\n",
        "  stepAcc.append(taux)\n",
        "  print('Accuracy: %d %%' % (\n",
        "      100 * taux))"
      ],
      "execution_count": 47,
      "outputs": [
        {
          "output_type": "stream",
          "text": [
            "Accuracy: 31 %\n",
            "Accuracy: 22 %\n",
            "Accuracy: 1 %\n",
            "Accuracy: 0 %\n",
            "Accuracy: 0 %\n",
            "Accuracy: 0 %\n",
            "Accuracy: 1 %\n"
          ],
          "name": "stdout"
        }
      ]
    },
    {
      "cell_type": "code",
      "metadata": {
        "id": "WeEQlrW0QcEQ",
        "colab_type": "code",
        "colab": {
          "base_uri": "https://localhost:8080/",
          "height": 312
        },
        "outputId": "f6c1cb59-ada6-4aea-a61d-99cd09f04487"
      },
      "source": [
        "plt.plot(stepl, stepAcc)\n",
        "plt.xlabel('Step size')\n",
        "plt.ylabel('Accuracy')\n",
        "plt.title('Accuracy in function of step gradient (test dataset)')"
      ],
      "execution_count": 53,
      "outputs": [
        {
          "output_type": "execute_result",
          "data": {
            "text/plain": [
              "Text(0.5, 1.0, 'Accuracy in function of step gradient (test dataset)')"
            ]
          },
          "metadata": {
            "tags": []
          },
          "execution_count": 53
        },
        {
          "output_type": "display_data",
          "data": {
            "image/png": "[encoded data removed]",
            "text/plain": [
              "<Figure size 432x288 with 1 Axes>"
            ]
          },
          "metadata": {
            "tags": []
          }
        }
      ]
    },
    {
      "cell_type": "markdown",
      "metadata": {
        "id": "zKknBrN7TfUa",
        "colab_type": "text"
      },
      "source": [
        "On trouve qu'il faut choisir une valeur soit pas trop petite, soit pas trop grande pour l'étape de gradient afin d'obtenir un bon résultat.\n",
        "\n",
        "En résumé, nous avons obtenu de bons résultats avec le PGD."
      ]
    }
  ]
}